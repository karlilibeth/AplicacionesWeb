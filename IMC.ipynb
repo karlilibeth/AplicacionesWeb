{
  "nbformat": 4,
  "nbformat_minor": 0,
  "metadata": {
    "colab": {
      "provenance": [],
      "authorship_tag": "ABX9TyP18f9KrKcZS+8W4E2hoGIo",
      "include_colab_link": true
    },
    "kernelspec": {
      "name": "python3",
      "display_name": "Python 3"
    },
    "language_info": {
      "name": "python"
    }
  },
  "cells": [
    {
      "cell_type": "markdown",
      "metadata": {
        "id": "view-in-github",
        "colab_type": "text"
      },
      "source": [
        "<a href=\"https://colab.research.google.com/github/karlilibeth/AplicacionesWeb/blob/main/IMC.ipynb\" target=\"_parent\"><img src=\"https://colab.research.google.com/assets/colab-badge.svg\" alt=\"Open In Colab\"/></a>"
      ]
    },
    {
      "cell_type": "code",
      "execution_count": null,
      "metadata": {
        "id": "1zoXklBILnYu"
      },
      "outputs": [],
      "source": [
        "#@title Cálculo del IMC { run: \"auto\" }\n",
        "estatura = 1.80 #@param {type:\"number\"}\n",
        "peso = 75 #@param {type:\"number\"}\n",
        "imc=peso/estatura**2\n",
        "print(imc)"
      ]
    }
  ]
}